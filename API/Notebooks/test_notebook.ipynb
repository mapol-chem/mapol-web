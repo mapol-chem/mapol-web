{
 "cells": [
  {
   "cell_type": "code",
   "execution_count": null,
   "id": "0e882c66",
   "metadata": {},
   "outputs": [],
   "source": [
    "print('Hello, World!')\n",
    "import numpy as np\n",
    "import matplotlib.pyplot as plt\n",
    "\n",
    "# Create simple data\n",
    "x = np.linspace(0, 10, 100)\n",
    "y = np.sin(x)\n",
    "\n",
    "print(f'Created data with {len(x)} points')"
   ]
  },
  {
   "cell_type": "code",
   "execution_count": null,
   "id": "ed9e37ee",
   "metadata": {},
   "outputs": [],
   "source": [
    "# Mathematical calculations\n",
    "result = 5 + 3 * 2\n",
    "print(f'5 + 3 * 2 = {result}')\n",
    "\n",
    "# List operations\n",
    "numbers = [1, 2, 3, 4, 5]\n",
    "squared = [x**2 for x in numbers]\n",
    "print(f'Original: {numbers}')\n",
    "print(f'Squared: {squared}')"
   ]
  },
  {
   "cell_type": "code",
   "execution_count": null,
   "id": "036e710d",
   "metadata": {},
   "outputs": [],
   "source": [
    "# Create a simple plot\n",
    "plt.figure(figsize=(8, 6))\n",
    "plt.plot(x, y, 'b-', linewidth=2, label='sin(x)')\n",
    "plt.plot(x, np.cos(x), 'r--', linewidth=2, label='cos(x)')\n",
    "plt.xlabel('x')\n",
    "plt.ylabel('y')\n",
    "plt.title('Sine and Cosine Functions')\n",
    "plt.legend()\n",
    "plt.grid(True, alpha=0.3)\n",
    "plt.show()"
   ]
  }
 ],
 "metadata": {
  "language_info": {
   "name": "python"
  }
 },
 "nbformat": 4,
 "nbformat_minor": 5
}
